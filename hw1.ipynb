{
 "cells": [
  {
   "cell_type": "code",
   "execution_count": 2,
   "metadata": {
    "collapsed": false
   },
   "outputs": [
    {
     "name": "stdout",
     "output_type": "stream",
     "text": [
      "35841\n",
      "16324\n",
      "Trump more!\n"
     ]
    }
   ],
   "source": [
    "import mediacloud, datetime\n",
    "mc = mediacloud.api.MediaCloud('my-api-key-here')\n",
    "\n",
    "res_trump = mc.sentenceCount('( trump )', solr_filter=[mc.publish_date_query( datetime.date( 2015, 8, 1), datetime.date( 2015, 9, 1) ), 'media_sets_id:1' ])\n",
    "print res_trump['count'] # prints the number of sentences found\n",
    "\n",
    "res_obama = mc.sentenceCount('( obama )', solr_filter=[mc.publish_date_query( datetime.date( 2015, 8, 1), datetime.date( 2015, 9, 1) ), 'media_sets_id:1' ])\n",
    "print res_obama['count'] # prints the number of sentences found\n",
    "\n",
    "if res_trump['count'] > res_obama['count']:\n",
    "    print 'Trump more!'\n",
    "elif res_trump['count'] < res_obama['count']:\n",
    "    print 'Obama more!'\n",
    "else:\n",
    "    print 'Trump Obama equal!'\n",
    "\n",
    "    \n",
    "    \n",
    "    "
   ]
  },
  {
   "cell_type": "code",
   "execution_count": null,
   "metadata": {
    "collapsed": true
   },
   "outputs": [],
   "source": []
  }
 ],
 "metadata": {
  "kernelspec": {
   "display_name": "Python 2",
   "language": "python",
   "name": "python2"
  },
  "language_info": {
   "codemirror_mode": {
    "name": "ipython",
    "version": 2
   },
   "file_extension": ".py",
   "mimetype": "text/x-python",
   "name": "python",
   "nbconvert_exporter": "python",
   "pygments_lexer": "ipython2",
   "version": "2.7.10"
  }
 },
 "nbformat": 4,
 "nbformat_minor": 0
}
